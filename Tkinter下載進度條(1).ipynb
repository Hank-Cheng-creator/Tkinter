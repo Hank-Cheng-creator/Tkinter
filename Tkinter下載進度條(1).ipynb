{
 "cells": [
  {
   "cell_type": "code",
   "execution_count": 1,
   "metadata": {},
   "outputs": [],
   "source": [
    "import tkinter as tk\n",
    "import time\n",
    "\n",
    "background = tk.Tk() #建立UI畫布\n",
    "background.title('下載進度條示範') #設置視窗標題名稱\n",
    "background.geometry('600x180') #設置視窗大小\n",
    "\n",
    "tk.Label(background, text='下載進度：',).place(x = 20, y = 60)\n",
    "#設置下載進度條Label標籤，其中place()是擺放位置，xy座標概念。\n",
    "\n",
    "canvas = tk.Canvas(background, width =465, height = 22, bg = \"white\")\n",
    "#設置下載進度條的進度Canvas\n",
    "\n",
    "canvas.place(x = 110, y = 60)\n",
    "#進度Canvas的位置，xy座標概念。\n",
    "\n",
    "def progress():\n",
    "    \n",
    "    #將進度條填滿\n",
    "    \n",
    "    fill_line = canvas.create_rectangle(0, 0, 10, 23, width = 0, fill = \"blue\")\n",
    "    \n",
    "    n=10\n",
    "    \n",
    "    for i in range(500):\n",
    "        n+=1\n",
    "        canvas.coords(fill_line, (0, 0, n, 23))\n",
    "        background.update()\n",
    "        time.sleep(0.01) #調整進度條顯示速度\n",
    "        \n",
    "    #將進度條清空\n",
    "    \n",
    "    fill_line = canvas.create_rectangle(0, 0, 10, 23, width=0, fill=\"white\")\n",
    "    \n",
    "    for t in range(200):\n",
    "        canvas.coords(fill_line, (0, 0, n, 23))\n",
    "        background.update()\n",
    "        time.sleep(0)\n",
    "        \n",
    "btn_download = tk.Button(background, text = '開始下載', command = progress)\n",
    "btn_download.place(x = 400, y = 105)\n",
    "\n",
    "btn_exit = tk.Button(background, text='離開', command=background.destroy)\n",
    "btn_exit.place(x = 200, y = 105)\n",
    "\n",
    "background.mainloop()"
   ]
  }
 ],
 "metadata": {
  "kernelspec": {
   "display_name": "Python 3",
   "language": "python",
   "name": "python3"
  },
  "language_info": {
   "codemirror_mode": {
    "name": "ipython",
    "version": 3
   },
   "file_extension": ".py",
   "mimetype": "text/x-python",
   "name": "python",
   "nbconvert_exporter": "python",
   "pygments_lexer": "ipython3",
   "version": "3.8.5"
  }
 },
 "nbformat": 4,
 "nbformat_minor": 4
}
