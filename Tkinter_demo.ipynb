{
 "cells": [
  {
   "cell_type": "code",
   "execution_count": 1,
   "metadata": {},
   "outputs": [],
   "source": [
    "#https://www.ptt.cc/bbs/Food/index.html\n",
    "\n",
    "from tkinter import *\n",
    "import requests\n",
    "from bs4 import BeautifulSoup\n",
    "\n",
    "\n",
    "def ptt_crawler():\n",
    "    \n",
    "    url=url_input.get()\n",
    "    \n",
    "    for times in range(10):\n",
    "        res = requests.get(url)\n",
    "        soup = BeautifulSoup(res.text, 'html.parser')\n",
    "        articles = soup.select('.title a')\n",
    "        paging = soup.select('.btn-group.btn-group-paging a')\n",
    "        last_url = \"https://www.ptt.cc\" + paging[1]['href']\n",
    "        url = last_url\n",
    "        \n",
    "        for each_title in articles:\n",
    "            \n",
    "            title=each_title.text\n",
    "            \n",
    "            text.insert(END,title)\n",
    "            #從Listbox最下方處END開始添加列表內容\n",
    "            \n",
    "            text.see(END)\n",
    "            #觀看Listbox的列表內容，否則將會一次呈現。\n",
    "            \n",
    "            text.update()\n",
    "            #每觀看一次Listbox就需要更新update，才會有漸進提取的感覺。\n",
    "\n",
    "\n",
    "def main():\n",
    "    global url_input,text #把url_input與text設定為全域變數\n",
    "    \n",
    "    background = Tk() #啟動Tkinter，即設置一個空白畫布。\n",
    "    \n",
    "    background.title('PTT文章標題下載') #設置視窗標題名稱\n",
    "    \n",
    "    background.geometry('550x350') #調整視窗大小\n",
    "    \n",
    "    Label(background,text='請輸入PTT看板網址:',font=(\"微軟雅黑\",20),fg='blue').grid()\n",
    "    #Label()文字型態標籤，第一個參數為畫布、第二個參數為所欲顯示字樣、第三個參數是字體與大小、第四個為顏色。\n",
    "    #grid()指該原件擺放位置，類似座標概念，預設為0,0。\n",
    "    \n",
    "    url_input=Entry(background,font=(\"微軟雅黑\",15))\n",
    "    #Entry()是可輸入型態的文字框，第一個參數為畫布、第二個參數是字體與大小。\n",
    "    \n",
    "    url_input.grid(row=0,column=1) #指定該文字框出現在第0列、第1欄。\n",
    "    \n",
    "    text=Listbox(background,font=('微軟雅黑',15),width=45,height=10)\n",
    "    #Listbox()是文字列表框，第一個參數為畫布、第二個參數是字體與大小，第三與第四個參數是寬與長。\n",
    "    \n",
    "    text.grid(row=1,columnspan=2) #grid()第二個參數指所欲跨越欄數\n",
    "    \n",
    "    Button(background,text='點我下載',font=(\"微軟雅黑\",15),command=ptt_crawler).grid(row=2,column=0,sticky=W)\n",
    "    #Button()設置按鈕，第一個參數為畫布、第二個參數是字體與大小\n",
    "    #第三個參數指該按鈕的動作指令，此處會呼叫ptt_crawler\n",
    "    #grid()內sticky參數E、S、W、N指對齊東、南、西、北。\n",
    "    \n",
    "    Button(background,text='離開',font=(\"微軟雅黑\",15),command=background.destroy).grid(row=2,column=1,sticky=E)\n",
    "    #Button()設置按鈕，第一個參數為畫布、第二個參數是字體與大小\n",
    "    #第三個參數指該按鈕的動作指令，此處會摧毀destroy該畫布，也就是關閉的意思。\n",
    "    #grid()內sticky參數E、S、W、N指對齊東、南、西、北。\n",
    "    \n",
    "    mainloop() #讓畫布always處於顯示的狀態"
   ]
  },
  {
   "cell_type": "code",
   "execution_count": 2,
   "metadata": {},
   "outputs": [],
   "source": [
    "main() #執行主程式"
   ]
  }
 ],
 "metadata": {
  "kernelspec": {
   "display_name": "Python 3",
   "language": "python",
   "name": "python3"
  },
  "language_info": {
   "codemirror_mode": {
    "name": "ipython",
    "version": 3
   },
   "file_extension": ".py",
   "mimetype": "text/x-python",
   "name": "python",
   "nbconvert_exporter": "python",
   "pygments_lexer": "ipython3",
   "version": "3.8.5"
  }
 },
 "nbformat": 4,
 "nbformat_minor": 4
}
